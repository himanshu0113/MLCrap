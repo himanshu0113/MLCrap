{
 "cells": [
  {
   "cell_type": "code",
   "execution_count": 3,
   "metadata": {
    "collapsed": true
   },
   "outputs": [],
   "source": [
    "import numpy as np\n",
    "from sklearn import linear_model\n",
    "\n",
    "def evaluate_LR(X, Y, c):\n",
    "    scores = list()\n",
    "    logistic = linear_model.LogisticRegression(C = c)\n",
    "    \n",
    "    for k in range(3):\n",
    "        X_train = list(X)\n",
    "        X_test = X_train.pop(k)\n",
    "        X_train = np.concatenate(X_train)\n",
    "        Y_train = list(Y)\n",
    "        Y_test = Y_train.pop(k)\n",
    "        Y_train = np.concatenate(Y_train)\n",
    "        scores.append(logistic.fit(X_train, Y_train).score(X_test, Y_test))\n",
    "    #print scores\n",
    "    return sum(scores)/len(scores)"
   ]
  },
  {
   "cell_type": "code",
   "execution_count": null,
   "metadata": {
    "collapsed": true
   },
   "outputs": [],
   "source": [
    "import os\n",
    "import os.path\n",
    "import argparse\n",
    "import h5py\n",
    "\n",
    "from sklearn.model_selection import train_test_split\n",
    "import matplotlib.pyplot as plt\n",
    "\n",
    "parser = argparse.ArgumentParser()\n",
    "parser.add_argument(\"--model_name\", type = str  )\n",
    "parser.add_argument(\"--weights_path\", type = str)\n",
    "parser.add_argument(\"--train_data\", type = str  )\n",
    "parser.add_argument(\"--plots_save_dir\", type = str  )\n",
    "\n",
    "args = parser.parse_args()\n",
    "\n",
    "# Load the test data\n",
    "def load_h5py(filename):\n",
    "\twith h5py.File(filename, 'r') as hf:\n",
    "\t\tX = hf['X'][:]\n",
    "\t\tY = hf['Y'][:]\n",
    "\treturn X, Y\n",
    "\n",
    "X, Y_ = load_h5py(\"Data/part_A_train.h5\")\n",
    "\n",
    "# Preprocess data and split it\n",
    "Y = []\n",
    "for row in Y_:\n",
    "    pos = row.tolist().index(1)\n",
    "    Y.append(pos)\n",
    "\n",
    "X_folds = np.array_split(X, 3)\n",
    "Y_folds = np.array_split(Y, 3)\n",
    "#print X_folds\n",
    "#print Y_folds\n",
    "\n",
    "# Train the models\n",
    "\n",
    "if args.model_name == 'GaussianNB':\n",
    "    pass\n",
    "#elif args.model_name == 'LogisticRegression':\n",
    "elif 1 == 1\n",
    "    C = [0.001, 0.01, 0.1, 1, 10, 100, 1000]\n",
    "    accuracy = []\n",
    "    #grid search using C parmeter of Logistic Regression\n",
    "    best_score, best_cfg = float(0), None\n",
    "    for c in C:\n",
    "        score = evaluate_LR(X_folds, Y_folds, c)\n",
    "        accuracy.append(score)\n",
    "        if score > best_score:\n",
    "            best_score, best_cfg = score, c\n",
    "        print(\"Logistic Regression %s Score: %.3f\" %(c, score))\n",
    "        \n",
    "    print(\"Best possible LR %s Score : %.3f\" %(best_cfg, best_score))\n",
    "    \n",
    "    plt.plot(C, accuracy)\n",
    "    plt.axis(0.00001, 10000)\n",
    "    plt.show()\n",
    "\n",
    "elif args.model_name == 'DecisionTreeClassifier':\n",
    "    pass\n",
    "    # define the grid here\n",
    "    # do the grid search with k fold cross validation\n",
    "    # model = DecisionTreeClassifier(  ...  )\n",
    "    # save the best model and print the results\n",
    "else:\n",
    "    raise Exception(\"Invald Model name\")"
   ]
  }
 ],
 "metadata": {
  "kernelspec": {
   "display_name": "Python 2",
   "language": "python",
   "name": "python2"
  },
  "language_info": {
   "codemirror_mode": {
    "name": "ipython",
    "version": 2
   },
   "file_extension": ".py",
   "mimetype": "text/x-python",
   "name": "python",
   "nbconvert_exporter": "python",
   "pygments_lexer": "ipython2",
   "version": "2.7.13"
  }
 },
 "nbformat": 4,
 "nbformat_minor": 2
}
